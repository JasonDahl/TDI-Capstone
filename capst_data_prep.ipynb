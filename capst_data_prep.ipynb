{
 "cells": [
  {
   "cell_type": "markdown",
   "metadata": {},
   "source": [
    "#  Predicting Cadets Likely to Struggle in Physics I"
   ]
  },
  {
   "cell_type": "markdown",
   "metadata": {},
   "source": [
    "While the United States Coast Guard Academy (USCGA) recruits high-achieving students from across the nation and around the globe, every year we have cadets who struggle to pass Physics I.  Failure to pass Physics has many undesirable consequences, including lowering a cadet's GPA, potentially delaying graduation and deployment to the operational fleet, and possibly even leading to a cadet's disenrollment from the Academy.  It is in the best interests of both the United States Coast Guard and the cadets themselves to do whatever we can to help cadets to pass Physics I the first time they take it.  Early intervention is vital, and academic support programs are in place to help struggling cadets.  However, at-risk cadets are difficult to identify until they have already failed an exam or two, at which point they are already in distress.  This tool seeks to mitigate that problem by predicting - right at the start of the semester - the cadets most at risk to have an unfavorable outcome in Physics I (defined here as earning a final grade of C- or worse), for the purpose of getting them into an academic support program at the earliest sign of trouble."
   ]
  },
  {
   "cell_type": "markdown",
   "metadata": {
    "heading_collapsed": true
   },
   "source": [
    "## Model Training"
   ]
  },
  {
   "cell_type": "markdown",
   "metadata": {
    "hidden": true
   },
   "source": [
    "This tool is a ML model that identifies cadets most at risk to struggle in Physics I based on their prior performance at the USCGA and in high school.  Both the training and prediction data require access to cadet PII, including grades and GPAs.  Consequently, the tool is presented as a Jupyter notebook for use by the USCGA Vice Provost for Academic Affairs or their designee (e.g. the Physics I Course Coordinator)."
   ]
  },
  {
   "cell_type": "markdown",
   "metadata": {
    "hidden": true
   },
   "source": [
    "In it's current form, the model has been trained on cadet data for Class Years 2020-2025.  You should not retrain the model unless you wish to update it based on the performance of classes since then.  If you only want to identify at-risk cadets fot the upcoming semester, proceed to the \"Predictions\" section."
   ]
  },
  {
   "cell_type": "markdown",
   "metadata": {
    "heading_collapsed": true,
    "hidden": true
   },
   "source": [
    "### Import and merge training data, import target data"
   ]
  },
  {
   "cell_type": "markdown",
   "metadata": {
    "hidden": true
   },
   "source": [
    "First, we'll import the institutional training data.  The current code assumes the cadet data will be presented as a .csv file with 15 fields in each row. The first field is a unique identifier (i.e. Cadet Code or equivalent).  The other fields and their data types are:\n",
    "* Gender (string)\n",
    "* Academic Class Year  (integer)  \n",
    "* Ethnicity (string)\n",
    "* Math Placement (integer, CGA math class number) \n",
    "* Most recent CGA GPA (decimal)\n",
    "* HS GPA (decimal)\n",
    "* HS GPA Scale (4.0, 100, etc.) (decimal)\n",
    "* Standardized Test Used (SAT or ACT) (string) \n",
    "* Math Score (SAT equivalent) (integer)  \n",
    "* Verbal Score (SAT equivalent) (integer)  \n",
    "* Times enrolled in Calculus I (integer) \n",
    "* Calculus 1 Last Grade (letter) \n",
    "* Calculus I Last Quality Points (decimal)\n",
    "* Times enrolled in Physics I (integer, 1 unless repeating)  "
   ]
  },
  {
   "cell_type": "code",
   "execution_count": 1,
   "metadata": {
    "hidden": true
   },
   "outputs": [],
   "source": [
    "import matplotlib.pyplot as plt\n",
    "import seaborn as sns\n",
    "sns.set()"
   ]
  },
  {
   "cell_type": "code",
   "execution_count": 2,
   "metadata": {
    "hidden": true
   },
   "outputs": [
    {
     "name": "stdout",
     "output_type": "stream",
     "text": [
      "<class 'pandas.core.frame.DataFrame'>\n"
     ]
    },
    {
     "data": {
      "text/plain": [
       "(1684, 14)"
      ]
     },
     "execution_count": 2,
     "metadata": {},
     "output_type": "execute_result"
    }
   ],
   "source": [
    "import numpy as np\n",
    "import pandas as pd\n",
    "\n",
    "train_instit = pd.read_csv(\"./Train-instit.csv\", index_col=0)\n",
    "\n",
    "print(type(train_instit))\n",
    "train_instit.shape"
   ]
  },
  {
   "cell_type": "code",
   "execution_count": 3,
   "metadata": {
    "hidden": true
   },
   "outputs": [
    {
     "name": "stdout",
     "output_type": "stream",
     "text": [
      "<class 'pandas.core.frame.DataFrame'>\n",
      "Index: 1684 entries, 1 to 1684\n",
      "Data columns (total 14 columns):\n",
      " #   Column           Non-Null Count  Dtype  \n",
      "---  ------           --------------  -----  \n",
      " 0   Gender           1684 non-null   object \n",
      " 1   AcademicClassYr  1684 non-null   int64  \n",
      " 2   Ethnicity        1671 non-null   object \n",
      " 3   MathPlacement    1684 non-null   int64  \n",
      " 4   LastGPA          1679 non-null   float64\n",
      " 5   HSGPA            1684 non-null   float64\n",
      " 6   MaxHS_GPA_Scale  1684 non-null   float64\n",
      " 7   TestUsed         1684 non-null   object \n",
      " 8   MaxMath          1684 non-null   int64  \n",
      " 9   MaxVerbal        1684 non-null   int64  \n",
      " 10  Calc1Number      1684 non-null   int64  \n",
      " 11  Calc1LastGrade   1364 non-null   object \n",
      " 12  Calc1LastQP      1348 non-null   float64\n",
      " 13  PhysicsITimes    1684 non-null   int64  \n",
      "dtypes: float64(4), int64(6), object(4)\n",
      "memory usage: 197.3+ KB\n"
     ]
    }
   ],
   "source": [
    "train_instit.info()"
   ]
  },
  {
   "cell_type": "markdown",
   "metadata": {
    "hidden": true
   },
   "source": [
    "The provided institutional data includes the demographic information \"Gender\" and \"Ethnicity\".  We do not want these categories to bias our results, so we'll drop them.  We'll also drop the Class Year (not predictive) and \"PhysicsITimes\", as we'll bring that in with the departmental data."
   ]
  },
  {
   "cell_type": "code",
   "execution_count": 4,
   "metadata": {
    "hidden": true
   },
   "outputs": [],
   "source": [
    "train_instit.drop(columns=['Gender', 'AcademicClassYr', 'Ethnicity', 'PhysicsITimes'], inplace=True)"
   ]
  },
  {
   "cell_type": "code",
   "execution_count": 5,
   "metadata": {
    "hidden": true
   },
   "outputs": [],
   "source": [
    "train_instit['MathPlacement'] = train_instit['MathPlacement'].astype(str) #Set MathPlacement (class number) as string"
   ]
  },
  {
   "cell_type": "markdown",
   "metadata": {
    "hidden": true
   },
   "source": [
    "Now we'll import departmental data.  This also starts with a unique identifier for each cadet that matches those in the institutional data.  The other fields are \"Phys1Grade\" (a cadet's Physics 1 final grade for each attempt) and \"Physics1Times\".  Note that REGIS (the CGA academic record system) may provide only the most recent value for Physics1Times, so the data for cadets repeating Physics 1 in any semester had to be manually updated to match attempt instances with their final grades for each attempt.  Future updates to the training data should be ssimilarly pre-processed."
   ]
  },
  {
   "cell_type": "code",
   "execution_count": 6,
   "metadata": {
    "hidden": true,
    "scrolled": true
   },
   "outputs": [
    {
     "name": "stdout",
     "output_type": "stream",
     "text": [
      "<class 'pandas.core.frame.DataFrame'>\n"
     ]
    },
    {
     "data": {
      "text/plain": [
       "(1702, 3)"
      ]
     },
     "execution_count": 6,
     "metadata": {},
     "output_type": "execute_result"
    }
   ],
   "source": [
    "train_dept = pd.read_csv(\"./Train-dept-v2.csv\", index_col=0)\n",
    "\n",
    "print(type(train_dept))\n",
    "train_dept.shape"
   ]
  },
  {
   "cell_type": "code",
   "execution_count": 7,
   "metadata": {
    "hidden": true
   },
   "outputs": [],
   "source": [
    "train_df=train_dept.merge(train_instit, on='RecordNum', how='left')"
   ]
  },
  {
   "cell_type": "code",
   "execution_count": 8,
   "metadata": {
    "hidden": true,
    "scrolled": true
   },
   "outputs": [
    {
     "name": "stdout",
     "output_type": "stream",
     "text": [
      "<class 'pandas.core.frame.DataFrame'>\n",
      "Index: 1702 entries, 1 to 1457\n",
      "Data columns (total 13 columns):\n",
      " #   Column           Non-Null Count  Dtype  \n",
      "---  ------           --------------  -----  \n",
      " 0   Phys1Grade       1563 non-null   object \n",
      " 1   PhysicsITimes    1702 non-null   int64  \n",
      " 2   P1_PrevGrade     1702 non-null   object \n",
      " 3   MathPlacement    1702 non-null   object \n",
      " 4   LastGPA          1697 non-null   float64\n",
      " 5   HSGPA            1702 non-null   float64\n",
      " 6   MaxHS_GPA_Scale  1702 non-null   float64\n",
      " 7   TestUsed         1702 non-null   object \n",
      " 8   MaxMath          1702 non-null   int64  \n",
      " 9   MaxVerbal        1702 non-null   int64  \n",
      " 10  Calc1Number      1702 non-null   int64  \n",
      " 11  Calc1LastGrade   1381 non-null   object \n",
      " 12  Calc1LastQP      1365 non-null   float64\n",
      "dtypes: float64(4), int64(4), object(5)\n",
      "memory usage: 186.2+ KB\n"
     ]
    }
   ],
   "source": [
    "train_df.info()"
   ]
  },
  {
   "cell_type": "markdown",
   "metadata": {
    "hidden": true
   },
   "source": [
    "Let's find the mean of the standardized test scores \"MaxMath\" and \"MaxVerbal\" in case we need to fill any missing values in future cohorts."
   ]
  },
  {
   "cell_type": "code",
   "execution_count": 9,
   "metadata": {
    "hidden": true
   },
   "outputs": [
    {
     "name": "stdout",
     "output_type": "stream",
     "text": [
      "655 652\n"
     ]
    }
   ],
   "source": [
    "SAT_Math_avg = int(train_df.MaxMath.mean())\n",
    "SAT_Verbal_avg = int(train_df.MaxVerbal.mean())\n",
    "print(SAT_Math_avg, SAT_Verbal_avg)"
   ]
  },
  {
   "cell_type": "markdown",
   "metadata": {
    "heading_collapsed": true,
    "hidden": true
   },
   "source": [
    "### Data Cleaning"
   ]
  },
  {
   "cell_type": "markdown",
   "metadata": {
    "hidden": true
   },
   "source": [
    "We dropped drop the 'Gender' and 'Ethnicity' columns during data import, on the grounds that these may bias our results.  We also dropped the \"AcademicClassYr\" column, since year-on-year performance should be roughly similar.  We dropped them from the prediction set as well.  We'll use \"Calc1QP\" as the Calc 1 performance indicator, so we'll drop \"Calc1LastGrade\" too."
   ]
  },
  {
   "cell_type": "code",
   "execution_count": 10,
   "metadata": {
    "hidden": true
   },
   "outputs": [],
   "source": [
    "train_inst=train_df.drop(columns=['Calc1LastGrade'])"
   ]
  },
  {
   "cell_type": "code",
   "execution_count": 11,
   "metadata": {
    "hidden": true
   },
   "outputs": [
    {
     "name": "stdout",
     "output_type": "stream",
     "text": [
      "<class 'pandas.core.frame.DataFrame'>\n",
      "Index: 1702 entries, 1 to 1457\n",
      "Data columns (total 12 columns):\n",
      " #   Column           Non-Null Count  Dtype  \n",
      "---  ------           --------------  -----  \n",
      " 0   Phys1Grade       1563 non-null   object \n",
      " 1   PhysicsITimes    1702 non-null   int64  \n",
      " 2   P1_PrevGrade     1702 non-null   object \n",
      " 3   MathPlacement    1702 non-null   object \n",
      " 4   LastGPA          1697 non-null   float64\n",
      " 5   HSGPA            1702 non-null   float64\n",
      " 6   MaxHS_GPA_Scale  1702 non-null   float64\n",
      " 7   TestUsed         1702 non-null   object \n",
      " 8   MaxMath          1702 non-null   int64  \n",
      " 9   MaxVerbal        1702 non-null   int64  \n",
      " 10  Calc1Number      1702 non-null   int64  \n",
      " 11  Calc1LastQP      1365 non-null   float64\n",
      "dtypes: float64(4), int64(4), object(4)\n",
      "memory usage: 172.9+ KB\n"
     ]
    }
   ],
   "source": [
    "train_inst.info()"
   ]
  },
  {
   "cell_type": "markdown",
   "metadata": {
    "hidden": true
   },
   "source": [
    "There appear to be 5 missing values in the \"LastGPA\" column.  These are likely due to disenrollments at the beginning of the semester, and should be dropped."
   ]
  },
  {
   "cell_type": "code",
   "execution_count": 12,
   "metadata": {
    "hidden": true
   },
   "outputs": [],
   "source": [
    "train_inst.dropna(subset=['LastGPA'], inplace=True)"
   ]
  },
  {
   "cell_type": "markdown",
   "metadata": {
    "hidden": true
   },
   "source": [
    "About 300 records are missing values for 'Calc1LastGrade' and 'Calc1LastQP'.  This could be because their math placement exam placed them into a class higher than Calc 1, or because they hadn't yet taken Calc 1.  If the former, their effective Calc 1 grade should be 'A' and their Calc 1 Quality Points should be 4.0.  For those cadets, their effective Calc1Number should also be set to 1.  For the others, their QP should be 0.0."
   ]
  },
  {
   "cell_type": "code",
   "execution_count": 13,
   "metadata": {
    "hidden": true
   },
   "outputs": [],
   "source": [
    "train_inst['Calc1LastQP'] = train_inst.apply(lambda row: \n",
    "                                             0.0 \n",
    "                                             if pd.isnull(row['Calc1LastQP']) and int(row['MathPlacement']) <= 3111\n",
    "                                             else row['Calc1LastQP'], axis=1)\n",
    "\n",
    "train_inst['Calc1LastQP'] = train_inst.apply(lambda row: \n",
    "                                             4.0 \n",
    "                                             if pd.isnull(row['Calc1LastQP']) and int(row['MathPlacement']) > 3111\n",
    "                                             else row['Calc1LastQP'], axis=1)\n",
    "\n",
    "train_inst['Calc1Number'] = train_inst.apply(lambda row: \n",
    "                                             1 \n",
    "                                             if int(row['MathPlacement']) > 3111\n",
    "                                             else row['Calc1Number'], axis=1)"
   ]
  },
  {
   "cell_type": "markdown",
   "metadata": {
    "hidden": true
   },
   "source": [
    "Let's get the HS GPAs on the same scale."
   ]
  },
  {
   "cell_type": "code",
   "execution_count": 14,
   "metadata": {
    "hidden": true
   },
   "outputs": [],
   "source": [
    "train_inst['HS_Gpct'] = train_inst.HSGPA / train_inst.MaxHS_GPA_Scale"
   ]
  },
  {
   "cell_type": "code",
   "execution_count": 15,
   "metadata": {
    "hidden": true
   },
   "outputs": [],
   "source": [
    "train_inst.HS_Gpct.replace([np.inf, -np.inf], np.nan, inplace=True)  #taking care of some pesky inf values"
   ]
  },
  {
   "cell_type": "markdown",
   "metadata": {
    "hidden": true
   },
   "source": [
    "About 300 cadets in our training data don't have HS GPAs listed!  For now, we'll fill them with their Academy GPA."
   ]
  },
  {
   "cell_type": "code",
   "execution_count": 16,
   "metadata": {
    "hidden": true
   },
   "outputs": [],
   "source": [
    "train_inst['HS_Gpct'] = train_inst.apply(lambda row: \n",
    "                                             row['LastGPA']/4.0 \n",
    "                                             if pd.isnull(row['HS_Gpct'])\n",
    "                                             else row['HS_Gpct'], axis=1)"
   ]
  },
  {
   "cell_type": "markdown",
   "metadata": {
    "hidden": true
   },
   "source": [
    "Finally, we need to handle the Physics 1 grades (the thing we're predicting)."
   ]
  },
  {
   "cell_type": "markdown",
   "metadata": {
    "hidden": true
   },
   "source": [
    "Many Physics 1 grades (the target of our predictions) are missing from the training data.  In many cases, these are due to \"validation\": i.e., testing out of Physics 1.  These cadets almost universally placed into Calc 1 or higher.  For now, we'll assume that any missing Physics 1 grade where the cadet was placed into MATH 3211 was a validation."
   ]
  },
  {
   "cell_type": "code",
   "execution_count": 17,
   "metadata": {
    "hidden": true
   },
   "outputs": [],
   "source": [
    "train_inst['Phys1Grade'] = train_inst.apply(lambda row: \n",
    "                                             'V' \n",
    "                                             if pd.isnull(row['Phys1Grade']) and int(row['MathPlacement']) >= 3111\n",
    "                                             else row['Phys1Grade'], axis=1)"
   ]
  },
  {
   "cell_type": "code",
   "execution_count": 18,
   "metadata": {
    "hidden": true,
    "scrolled": true
   },
   "outputs": [
    {
     "data": {
      "text/plain": [
       "Phys1Grade\n",
       "B+    280\n",
       "A     272\n",
       "B     198\n",
       "C+    163\n",
       "B-    151\n",
       "A-    146\n",
       "V     127\n",
       "H     121\n",
       "C     110\n",
       "C-     51\n",
       "F      36\n",
       "D      20\n",
       "W      14\n",
       "S       1\n",
       "Name: count, dtype: int64"
      ]
     },
     "execution_count": 18,
     "metadata": {},
     "output_type": "execute_result"
    }
   ],
   "source": [
    "train_inst.Phys1Grade.value_counts()"
   ]
  },
  {
   "cell_type": "code",
   "execution_count": 19,
   "metadata": {
    "hidden": true
   },
   "outputs": [
    {
     "name": "stdout",
     "output_type": "stream",
     "text": [
      "<class 'pandas.core.frame.DataFrame'>\n",
      "Index: 1697 entries, 1 to 1457\n",
      "Data columns (total 13 columns):\n",
      " #   Column           Non-Null Count  Dtype  \n",
      "---  ------           --------------  -----  \n",
      " 0   Phys1Grade       1690 non-null   object \n",
      " 1   PhysicsITimes    1697 non-null   int64  \n",
      " 2   P1_PrevGrade     1697 non-null   object \n",
      " 3   MathPlacement    1697 non-null   object \n",
      " 4   LastGPA          1697 non-null   float64\n",
      " 5   HSGPA            1697 non-null   float64\n",
      " 6   MaxHS_GPA_Scale  1697 non-null   float64\n",
      " 7   TestUsed         1697 non-null   object \n",
      " 8   MaxMath          1697 non-null   int64  \n",
      " 9   MaxVerbal        1697 non-null   int64  \n",
      " 10  Calc1Number      1697 non-null   int64  \n",
      " 11  Calc1LastQP      1697 non-null   float64\n",
      " 12  HS_Gpct          1697 non-null   float64\n",
      "dtypes: float64(5), int64(4), object(4)\n",
      "memory usage: 185.6+ KB\n"
     ]
    }
   ],
   "source": [
    "train_inst.info()"
   ]
  },
  {
   "cell_type": "markdown",
   "metadata": {
    "hidden": true
   },
   "source": [
    "Grades of W or S are usually due to extenuating circumstances.  We'll drop them, along with the 7 rows still missing grades."
   ]
  },
  {
   "cell_type": "code",
   "execution_count": 20,
   "metadata": {
    "hidden": true
   },
   "outputs": [],
   "source": [
    "valid_grades = ['V', 'H', 'A', 'A-', 'B+', 'B', 'B-', 'C+', 'C', 'C-', 'D', 'F']"
   ]
  },
  {
   "cell_type": "code",
   "execution_count": 21,
   "metadata": {
    "hidden": true
   },
   "outputs": [],
   "source": [
    "df = train_inst[train_inst.Phys1Grade.isin(valid_grades) == True]"
   ]
  },
  {
   "cell_type": "code",
   "execution_count": 22,
   "metadata": {
    "hidden": true
   },
   "outputs": [
    {
     "data": {
      "text/plain": [
       "Phys1Grade\n",
       "B+    280\n",
       "A     272\n",
       "B     198\n",
       "C+    163\n",
       "B-    151\n",
       "A-    146\n",
       "V     127\n",
       "H     121\n",
       "C     110\n",
       "C-     51\n",
       "F      36\n",
       "D      20\n",
       "Name: count, dtype: int64"
      ]
     },
     "execution_count": 22,
     "metadata": {},
     "output_type": "execute_result"
    }
   ],
   "source": [
    "df.Phys1Grade.value_counts()"
   ]
  },
  {
   "cell_type": "markdown",
   "metadata": {
    "hidden": true
   },
   "source": [
    "Note that the classes here are HIGHLY unbalanced.  Only about 1 in 15 cadets earns a grade of C- or worse.  We will beed to address this in the model training section."
   ]
  },
  {
   "cell_type": "code",
   "execution_count": 23,
   "metadata": {
    "hidden": true,
    "scrolled": true
   },
   "outputs": [
    {
     "name": "stdout",
     "output_type": "stream",
     "text": [
      "<class 'pandas.core.frame.DataFrame'>\n",
      "Index: 1675 entries, 1 to 1457\n",
      "Data columns (total 13 columns):\n",
      " #   Column           Non-Null Count  Dtype  \n",
      "---  ------           --------------  -----  \n",
      " 0   Phys1Grade       1675 non-null   object \n",
      " 1   PhysicsITimes    1675 non-null   int64  \n",
      " 2   P1_PrevGrade     1675 non-null   object \n",
      " 3   MathPlacement    1675 non-null   object \n",
      " 4   LastGPA          1675 non-null   float64\n",
      " 5   HSGPA            1675 non-null   float64\n",
      " 6   MaxHS_GPA_Scale  1675 non-null   float64\n",
      " 7   TestUsed         1675 non-null   object \n",
      " 8   MaxMath          1675 non-null   int64  \n",
      " 9   MaxVerbal        1675 non-null   int64  \n",
      " 10  Calc1Number      1675 non-null   int64  \n",
      " 11  Calc1LastQP      1675 non-null   float64\n",
      " 12  HS_Gpct          1675 non-null   float64\n",
      "dtypes: float64(5), int64(4), object(4)\n",
      "memory usage: 183.2+ KB\n"
     ]
    }
   ],
   "source": [
    "df.info()"
   ]
  },
  {
   "cell_type": "markdown",
   "metadata": {
    "hidden": true
   },
   "source": [
    "As a last step, we will convert our Physics 1 grades into our target labels.  Grades of C- or higher are \"successful\", while those below are not."
   ]
  },
  {
   "cell_type": "code",
   "execution_count": 24,
   "metadata": {
    "hidden": true
   },
   "outputs": [],
   "source": [
    "#Successful_grades = ['V', 'H', 'A', 'A-', 'B+', 'B', 'B-', 'C+', 'C']  #moved C- to the At Risk category to help balance classes"
   ]
  },
  {
   "cell_type": "code",
   "execution_count": 25,
   "metadata": {
    "hidden": true
   },
   "outputs": [],
   "source": [
    "def GradeConverter(row):\n",
    "    successful_grades = ['V', 'H', 'A', 'A-', 'B+', 'B', 'B-', 'C+', 'C']\n",
    "    \n",
    "    if row['Phys1Grade'] in successful_grades:\n",
    "        outcome = 0\n",
    "    else:\n",
    "        outcome = 1\n",
    "        \n",
    "    return outcome    "
   ]
  },
  {
   "cell_type": "code",
   "execution_count": 26,
   "metadata": {
    "hidden": true,
    "scrolled": true
   },
   "outputs": [
    {
     "name": "stderr",
     "output_type": "stream",
     "text": [
      "/tmp/ipykernel_25759/3163381256.py:1: SettingWithCopyWarning: \n",
      "A value is trying to be set on a copy of a slice from a DataFrame.\n",
      "Try using .loc[row_indexer,col_indexer] = value instead\n",
      "\n",
      "See the caveats in the documentation: https://pandas.pydata.org/pandas-docs/stable/user_guide/indexing.html#returning-a-view-versus-a-copy\n",
      "  df['Phys1_outcome'] = df.apply(lambda row: GradeConverter(row), axis=1)\n"
     ]
    }
   ],
   "source": [
    "df['Phys1_outcome'] = df.apply(lambda row: GradeConverter(row), axis=1)"
   ]
  },
  {
   "cell_type": "code",
   "execution_count": 27,
   "metadata": {
    "hidden": true,
    "scrolled": true
   },
   "outputs": [
    {
     "data": {
      "text/plain": [
       "Phys1_outcome\n",
       "0    1568\n",
       "1     107\n",
       "Name: count, dtype: int64"
      ]
     },
     "execution_count": 27,
     "metadata": {},
     "output_type": "execute_result"
    }
   ],
   "source": [
    "df.Phys1_outcome.value_counts()"
   ]
  },
  {
   "cell_type": "code",
   "execution_count": 28,
   "metadata": {
    "hidden": true
   },
   "outputs": [],
   "source": [
    "model_input = df.copy()"
   ]
  },
  {
   "cell_type": "code",
   "execution_count": 29,
   "metadata": {
    "hidden": true
   },
   "outputs": [],
   "source": [
    "features_to_use = ['MathPlacement','HS_Gpct', 'MaxMath', 'MaxVerbal', 'LastGPA', 'Calc1Number', 'Calc1LastQP', 'PhysicsITimes', 'P1_PrevGrade']\n",
    "\n",
    "X_m = model_input[features_to_use]\n",
    "y_m = model_input['Phys1_outcome']"
   ]
  },
  {
   "cell_type": "code",
   "execution_count": 30,
   "metadata": {
    "hidden": true
   },
   "outputs": [
    {
     "data": {
      "text/html": [
       "<div>\n",
       "<style scoped>\n",
       "    .dataframe tbody tr th:only-of-type {\n",
       "        vertical-align: middle;\n",
       "    }\n",
       "\n",
       "    .dataframe tbody tr th {\n",
       "        vertical-align: top;\n",
       "    }\n",
       "\n",
       "    .dataframe thead th {\n",
       "        text-align: right;\n",
       "    }\n",
       "</style>\n",
       "<table border=\"1\" class=\"dataframe\">\n",
       "  <thead>\n",
       "    <tr style=\"text-align: right;\">\n",
       "      <th></th>\n",
       "      <th>MathPlacement</th>\n",
       "      <th>HS_Gpct</th>\n",
       "      <th>MaxMath</th>\n",
       "      <th>MaxVerbal</th>\n",
       "      <th>LastGPA</th>\n",
       "      <th>Calc1Number</th>\n",
       "      <th>Calc1LastQP</th>\n",
       "      <th>PhysicsITimes</th>\n",
       "      <th>P1_PrevGrade</th>\n",
       "    </tr>\n",
       "    <tr>\n",
       "      <th>RecordNum</th>\n",
       "      <th></th>\n",
       "      <th></th>\n",
       "      <th></th>\n",
       "      <th></th>\n",
       "      <th></th>\n",
       "      <th></th>\n",
       "      <th></th>\n",
       "      <th></th>\n",
       "      <th></th>\n",
       "    </tr>\n",
       "  </thead>\n",
       "  <tbody>\n",
       "    <tr>\n",
       "      <th>1</th>\n",
       "      <td>3111</td>\n",
       "      <td>0.9500</td>\n",
       "      <td>630</td>\n",
       "      <td>630</td>\n",
       "      <td>2.98</td>\n",
       "      <td>1</td>\n",
       "      <td>2.3</td>\n",
       "      <td>1</td>\n",
       "      <td>N</td>\n",
       "    </tr>\n",
       "    <tr>\n",
       "      <th>2</th>\n",
       "      <td>3111</td>\n",
       "      <td>0.8988</td>\n",
       "      <td>800</td>\n",
       "      <td>580</td>\n",
       "      <td>3.06</td>\n",
       "      <td>1</td>\n",
       "      <td>3.0</td>\n",
       "      <td>1</td>\n",
       "      <td>N</td>\n",
       "    </tr>\n",
       "    <tr>\n",
       "      <th>3</th>\n",
       "      <td>3111</td>\n",
       "      <td>0.8150</td>\n",
       "      <td>550</td>\n",
       "      <td>600</td>\n",
       "      <td>3.26</td>\n",
       "      <td>1</td>\n",
       "      <td>3.0</td>\n",
       "      <td>1</td>\n",
       "      <td>N</td>\n",
       "    </tr>\n",
       "    <tr>\n",
       "      <th>4</th>\n",
       "      <td>3111</td>\n",
       "      <td>0.7525</td>\n",
       "      <td>630</td>\n",
       "      <td>540</td>\n",
       "      <td>2.60</td>\n",
       "      <td>1</td>\n",
       "      <td>1.0</td>\n",
       "      <td>1</td>\n",
       "      <td>N</td>\n",
       "    </tr>\n",
       "    <tr>\n",
       "      <th>5</th>\n",
       "      <td>3111</td>\n",
       "      <td>0.9400</td>\n",
       "      <td>680</td>\n",
       "      <td>600</td>\n",
       "      <td>3.52</td>\n",
       "      <td>1</td>\n",
       "      <td>3.0</td>\n",
       "      <td>1</td>\n",
       "      <td>N</td>\n",
       "    </tr>\n",
       "  </tbody>\n",
       "</table>\n",
       "</div>"
      ],
      "text/plain": [
       "          MathPlacement  HS_Gpct  MaxMath  MaxVerbal  LastGPA  Calc1Number  \\\n",
       "RecordNum                                                                    \n",
       "1                  3111   0.9500      630        630     2.98            1   \n",
       "2                  3111   0.8988      800        580     3.06            1   \n",
       "3                  3111   0.8150      550        600     3.26            1   \n",
       "4                  3111   0.7525      630        540     2.60            1   \n",
       "5                  3111   0.9400      680        600     3.52            1   \n",
       "\n",
       "           Calc1LastQP  PhysicsITimes P1_PrevGrade  \n",
       "RecordNum                                           \n",
       "1                  2.3              1            N  \n",
       "2                  3.0              1            N  \n",
       "3                  3.0              1            N  \n",
       "4                  1.0              1            N  \n",
       "5                  3.0              1            N  "
      ]
     },
     "execution_count": 30,
     "metadata": {},
     "output_type": "execute_result"
    }
   ],
   "source": [
    "X_m.head()"
   ]
  },
  {
   "cell_type": "code",
   "execution_count": 31,
   "metadata": {
    "hidden": true,
    "scrolled": true
   },
   "outputs": [
    {
     "data": {
      "text/plain": [
       "RecordNum\n",
       "1    0\n",
       "2    0\n",
       "3    0\n",
       "4    0\n",
       "5    0\n",
       "Name: Phys1_outcome, dtype: int64"
      ]
     },
     "execution_count": 31,
     "metadata": {},
     "output_type": "execute_result"
    }
   ],
   "source": [
    "y_m.head()"
   ]
  },
  {
   "cell_type": "markdown",
   "metadata": {
    "hidden": true
   },
   "source": [
    "Now we'll encode the columns in preparation for sampling and classification"
   ]
  },
  {
   "cell_type": "markdown",
   "metadata": {
    "hidden": true
   },
   "source": [
    "We'll need to select and transform the columns we want to feed into our predictor.  MathPlacement is categorical and will need to be OneHotEncoded.  We'll also keep HS_Gpct, LastGPA, MaxMath, MaxVerbal, Calc1Number, Calc1LastQP, and PhysicsITimes.  Phys1_outcome is what we'll be trying to predict."
   ]
  },
  {
   "cell_type": "code",
   "execution_count": 32,
   "metadata": {
    "hidden": true
   },
   "outputs": [],
   "source": [
    "from sklearn.compose import ColumnTransformer\n",
    "from sklearn.preprocessing import OneHotEncoder\n",
    "\n",
    "columns_to_encode = ['MathPlacement', 'P1_PrevGrade']\n",
    "ohe = OneHotEncoder()\n",
    "\n",
    "ohe_trans = ColumnTransformer([\n",
    "    ('OHE', ohe, columns_to_encode)], \n",
    "    remainder='passthrough')\n",
    "\n",
    "X_encoded = ohe_trans.fit_transform(X_m)\n",
    "Xenc_cols = ohe_trans.get_feature_names_out()"
   ]
  },
  {
   "cell_type": "code",
   "execution_count": 33,
   "metadata": {
    "hidden": true
   },
   "outputs": [
    {
     "data": {
      "text/plain": [
       "(1675, 16)"
      ]
     },
     "execution_count": 33,
     "metadata": {},
     "output_type": "execute_result"
    }
   ],
   "source": [
    "X_encoded.shape"
   ]
  },
  {
   "cell_type": "code",
   "execution_count": 34,
   "metadata": {
    "hidden": true
   },
   "outputs": [
    {
     "data": {
      "text/plain": [
       "array(['OHE__MathPlacement_3107', 'OHE__MathPlacement_3111',\n",
       "       'OHE__MathPlacement_3115', 'OHE__MathPlacement_3117',\n",
       "       'OHE__MathPlacement_3211', 'OHE__MathPlacement_3213',\n",
       "       'OHE__MathPlacement_3215', 'OHE__P1_PrevGrade_F',\n",
       "       'OHE__P1_PrevGrade_N', 'remainder__HS_Gpct', 'remainder__MaxMath',\n",
       "       'remainder__MaxVerbal', 'remainder__LastGPA',\n",
       "       'remainder__Calc1Number', 'remainder__Calc1LastQP',\n",
       "       'remainder__PhysicsITimes'], dtype=object)"
      ]
     },
     "execution_count": 34,
     "metadata": {},
     "output_type": "execute_result"
    }
   ],
   "source": [
    "Xenc_cols"
   ]
  },
  {
   "cell_type": "code",
   "execution_count": 35,
   "metadata": {
    "hidden": true
   },
   "outputs": [],
   "source": [
    "X=pd.DataFrame(X_encoded, columns=Xenc_cols)"
   ]
  },
  {
   "cell_type": "code",
   "execution_count": 36,
   "metadata": {
    "hidden": true,
    "scrolled": true
   },
   "outputs": [
    {
     "name": "stdout",
     "output_type": "stream",
     "text": [
      "<class 'pandas.core.frame.DataFrame'>\n",
      "RangeIndex: 1675 entries, 0 to 1674\n",
      "Data columns (total 16 columns):\n",
      " #   Column                    Non-Null Count  Dtype  \n",
      "---  ------                    --------------  -----  \n",
      " 0   OHE__MathPlacement_3107   1675 non-null   float64\n",
      " 1   OHE__MathPlacement_3111   1675 non-null   float64\n",
      " 2   OHE__MathPlacement_3115   1675 non-null   float64\n",
      " 3   OHE__MathPlacement_3117   1675 non-null   float64\n",
      " 4   OHE__MathPlacement_3211   1675 non-null   float64\n",
      " 5   OHE__MathPlacement_3213   1675 non-null   float64\n",
      " 6   OHE__MathPlacement_3215   1675 non-null   float64\n",
      " 7   OHE__P1_PrevGrade_F       1675 non-null   float64\n",
      " 8   OHE__P1_PrevGrade_N       1675 non-null   float64\n",
      " 9   remainder__HS_Gpct        1675 non-null   float64\n",
      " 10  remainder__MaxMath        1675 non-null   float64\n",
      " 11  remainder__MaxVerbal      1675 non-null   float64\n",
      " 12  remainder__LastGPA        1675 non-null   float64\n",
      " 13  remainder__Calc1Number    1675 non-null   float64\n",
      " 14  remainder__Calc1LastQP    1675 non-null   float64\n",
      " 15  remainder__PhysicsITimes  1675 non-null   float64\n",
      "dtypes: float64(16)\n",
      "memory usage: 209.5 KB\n"
     ]
    }
   ],
   "source": [
    "X.info()"
   ]
  },
  {
   "cell_type": "code",
   "execution_count": 37,
   "metadata": {
    "hidden": true
   },
   "outputs": [
    {
     "data": {
      "text/plain": [
       "['OHE__MathPlacement_3107',\n",
       " 'OHE__MathPlacement_3111',\n",
       " 'OHE__MathPlacement_3115',\n",
       " 'OHE__MathPlacement_3117',\n",
       " 'OHE__MathPlacement_3211',\n",
       " 'OHE__MathPlacement_3213',\n",
       " 'OHE__MathPlacement_3215',\n",
       " 'OHE__P1_PrevGrade_F',\n",
       " 'OHE__P1_PrevGrade_N',\n",
       " 'remainder__HS_Gpct',\n",
       " 'remainder__MaxMath',\n",
       " 'remainder__MaxVerbal',\n",
       " 'remainder__LastGPA',\n",
       " 'remainder__Calc1Number',\n",
       " 'remainder__Calc1LastQP',\n",
       " 'remainder__PhysicsITimes']"
      ]
     },
     "execution_count": 37,
     "metadata": {},
     "output_type": "execute_result"
    }
   ],
   "source": [
    "columns_in = list(X.columns)\n",
    "columns_in"
   ]
  },
  {
   "cell_type": "code",
   "execution_count": 38,
   "metadata": {
    "hidden": true
   },
   "outputs": [],
   "source": [
    "from sklearn.preprocessing import LabelEncoder\n",
    "\n",
    "le = LabelEncoder()\n",
    "\n",
    "y = y_m"
   ]
  },
  {
   "cell_type": "code",
   "execution_count": 39,
   "metadata": {
    "hidden": true,
    "scrolled": true
   },
   "outputs": [
    {
     "data": {
      "text/plain": [
       "RecordNum\n",
       "1    0\n",
       "2    0\n",
       "3    0\n",
       "4    0\n",
       "5    0\n",
       "Name: Phys1_outcome, dtype: int64"
      ]
     },
     "execution_count": 39,
     "metadata": {},
     "output_type": "execute_result"
    }
   ],
   "source": [
    "y.head()"
   ]
  },
  {
   "cell_type": "code",
   "execution_count": 40,
   "metadata": {
    "hidden": true
   },
   "outputs": [],
   "source": [
    "import pickle\n",
    "\n",
    "X.to_pickle('Cap_cleaned_X.pkl')\n",
    "y.to_pickle(\"Cap_cleaned_y.pkl\")"
   ]
  }
 ],
 "metadata": {
  "kernelspec": {
   "display_name": "Python 3 (ipykernel)",
   "language": "python",
   "name": "python3"
  },
  "language_info": {
   "codemirror_mode": {
    "name": "ipython",
    "version": 3
   },
   "file_extension": ".py",
   "mimetype": "text/x-python",
   "name": "python",
   "nbconvert_exporter": "python",
   "pygments_lexer": "ipython3",
   "version": "3.12.2"
  }
 },
 "nbformat": 4,
 "nbformat_minor": 4
}
