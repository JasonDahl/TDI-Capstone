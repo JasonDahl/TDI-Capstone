{
 "cells": [
  {
   "cell_type": "markdown",
   "metadata": {},
   "source": [
    "#  Predicting Cadets Likely to Struggle in Physics I"
   ]
  },
  {
   "cell_type": "markdown",
   "metadata": {},
   "source": [
    "While the United States Coast Guard Academy (USCGA) recruits high-achieving students from across the nation and around the globe, every year we have cadets who struggle to pass Physics I.  Failure to pass Physics has many undesirable consequences, including lowering a cadet's GPA, potentially delaying graduation and deployment to the operational fleet, and possibly even leading to a cadet's disenrollment from the Academy.  It is in the best interests of both the United States Coast Guard and the cadets themselves to do whatever we can to help cadets to pass Physics I the first time they take it.  Early intervention is vital, and academic support programs are in place to help struggling cadets.  However, at-risk cadets are difficult to identify until they have already failed an exam or two, at which point they are already in distress.  This tool seeks to mitigate that problem by predicting - right at the start of the semester - the cadets most at risk to have an unfavorable outcome in Physics I (defined here as earning a final grade of C- or worse), for the purpose of getting them into an academic support program at the earliest sign of trouble."
   ]
  },
  {
   "cell_type": "markdown",
   "metadata": {},
   "source": [
    "## Model Tuning"
   ]
  },
  {
   "cell_type": "code",
   "execution_count": 1,
   "metadata": {},
   "outputs": [],
   "source": [
    "import matplotlib.pyplot as plt\n",
    "import seaborn as sns\n",
    "sns.set()\n",
    "\n",
    "import numpy as np\n",
    "import pandas as pd\n",
    "import pickle"
   ]
  },
  {
   "cell_type": "code",
   "execution_count": 2,
   "metadata": {
    "hidden": true
   },
   "outputs": [],
   "source": [
    "from imblearn.pipeline import Pipeline\n",
    "from sklearn.preprocessing import StandardScaler\n",
    "from sklearn.model_selection import GridSearchCV\n",
    "from sklearn.linear_model import LogisticRegression\n",
    "from sklearn.model_selection import train_test_split\n",
    "from imblearn.over_sampling import BorderlineSMOTE\n",
    "from sklearn.metrics import cohen_kappa_score, make_scorer"
   ]
  },
  {
   "cell_type": "markdown",
   "metadata": {
    "hidden": true
   },
   "source": [
    "To train our model and evaluate goodness of results, we first randomly split the data into training and validation sets.  Then since the classes are highly unbalanced, we perform synthetic minority oversampling using BorderlineSMOTE to balance the classes. In the first implementation of this tool, we then used GridSearchCV to tune the regularization parameter C of the logistic regressor we use for classification.  However, we found that the value of C varied greatly between runs, sometimes by a couple of orders of magnitude.  To address this, we wrapped our gridsearch in a function that loops over the gridsearch 1000 times, and returns the median value for C.  Note:  Do NOT, rerun this optimizer unless you have a couple of hours to spare..."
   ]
  },
  {
   "cell_type": "code",
   "execution_count": 3,
   "metadata": {
    "hidden": true
   },
   "outputs": [],
   "source": [
    "def Logistic_GS_optimizer(Xin, yin, num_loops):\n",
    "    \n",
    "    best_C_list = []\n",
    "    \n",
    "    for loop in range(num_loops):\n",
    "        \n",
    "                \n",
    "        X_train, X_test, y_train, y_test = train_test_split(X, y, test_size=0.2, stratify=y)\n",
    "        \n",
    "        if loop % 50 == 0:\n",
    "            print(\"Search loop:\", loop)\n",
    "\n",
    "        smote = BorderlineSMOTE(sampling_strategy='auto')\n",
    "        smox, smoy = smote.fit_resample(X_train, y_train)\n",
    "        \n",
    "        from sklearn.metrics import cohen_kappa_score, make_scorer\n",
    "\n",
    "        kappa_scorer=make_scorer(cohen_kappa_score)\n",
    "\n",
    "        log_reg = LogisticRegression(max_iter=1000)\n",
    "        log_params = {'C': np.logspace(-3, 4, 180)}\n",
    "        log_gridsrch = GridSearchCV(log_reg, log_params, cv=10, n_jobs=-1, scoring=kappa_scorer)\n",
    "            \n",
    "        search_pipe = Pipeline([('scaler', StandardScaler()),\n",
    "                       ('logreg', log_gridsrch)])\n",
    "        search_pipe.fit(smox, smoy)\n",
    "        \n",
    "        best_C_loop = log_gridsrch.best_params_['C']\n",
    "        \n",
    "        if loop % 50 == 0:\n",
    "            print(f'Best C for loop {loop} = {best_C_loop}')\n",
    "        \n",
    "        best_C_list.append(best_C_loop)\n",
    "        \n",
    "    return best_C_list"
   ]
  },
  {
   "cell_type": "code",
   "execution_count": 44,
   "metadata": {
    "hidden": true
   },
   "outputs": [
    {
     "name": "stdout",
     "output_type": "stream",
     "text": [
      "Search loop: 0\n",
      "Best C for loop 0 = 18.3050041805179\n",
      "Search loop: 50\n",
      "Best C for loop 50 = 0.7831676656350356\n",
      "Search loop: 100\n",
      "Best C for loop 100 = 0.05751439242433623\n",
      "Search loop: 150\n",
      "Best C for loop 150 = 0.2658159309189292\n",
      "Search loop: 200\n",
      "Best C for loop 200 = 5.677928824435603\n",
      "Search loop: 250\n",
      "Best C for loop 250 = 0.01244434569630598\n",
      "Search loop: 300\n",
      "Best C for loop 300 = 13.97176899875119\n",
      "Search loop: 350\n",
      "Best C for loop 350 = 3.960639944069097\n",
      "Search loop: 400\n",
      "Best C for loop 400 = 1.2285291759493422\n",
      "Search loop: 450\n",
      "Best C for loop 450 = 0.09022092232702607\n",
      "Search loop: 500\n",
      "Best C for loop 500 = 0.5462987006931709\n",
      "Search loop: 550\n",
      "Best C for loop 550 = 0.2028909005625913\n",
      "Search loop: 600\n",
      "Best C for loop 600 = 2.762744876097482\n",
      "Search loop: 650\n",
      "Best C for loop 650 = 34.38055230885514\n",
      "Search loop: 700\n",
      "Best C for loop 700 = 8.90677887490001\n",
      "Search loop: 750\n",
      "Best C for loop 750 = 59.0132755110901\n",
      "Search loop: 800\n",
      "Best C for loop 800 = 8.90677887490001\n",
      "Search loop: 850\n",
      "Best C for loop 850 = 0.007249953073371109\n",
      "Search loop: 900\n",
      "Best C for loop 900 = 0.8569606765373503\n",
      "Search loop: 950\n",
      "Best C for loop 950 = 0.2028909005625913\n"
     ]
    },
    {
     "name": "stderr",
     "output_type": "stream",
     "text": [
      "/home/jdiabl0/anaconda3/envs/TDI/lib/python3.11/site-packages/seaborn/_oldcore.py:1119: FutureWarning: use_inf_as_na option is deprecated and will be removed in a future version. Convert inf values to NaN before operating instead.\n",
      "  with pd.option_context('mode.use_inf_as_na', True):\n"
     ]
    },
    {
     "data": {
      "text/plain": [
       "<matplotlib.lines.Line2D at 0x7f11aa675350>"
      ]
     },
     "execution_count": 44,
     "metadata": {},
     "output_type": "execute_result"
    },
    {
     "data": {
      "image/png": "[encoded data removed]",
      "text/plain": [
       "<Figure size 640x480 with 1 Axes>"
      ]
     },
     "metadata": {},
     "output_type": "display_data"
    }
   ],
   "source": [
    "# - CAUTION - uncomment to rerun the gridsearch optimizer. - CAUTION - LONG RUN TIME\n",
    "capstone_C = Logistic_GS_optimizer(X, y, 1000)\n",
    "\n",
    "# the histogram of the C values\n",
    "sns.histplot(data=capstone_C, bins=25, log_scale=True)\n",
    "plt.xlabel(\"Regularization parameter (C) best value\", size=14)\n",
    "plt.ylabel(\"Count\", size=14)\n",
    "plt.axvline(x=np.median(capstone_C),\n",
    "            color='blue', ls='--', lw=2.5)"
   ]
  },
  {
   "cell_type": "code",
   "execution_count": 45,
   "metadata": {
    "hidden": true,
    "scrolled": true
   },
   "outputs": [
    {
     "data": {
      "text/plain": [
       "<Figure size 640x480 with 0 Axes>"
      ]
     },
     "metadata": {},
     "output_type": "display_data"
    }
   ],
   "source": [
    "plt.savefig(\"Seaborn_displot_histogram_with_median_line_Python.png\")"
   ]
  },
  {
   "cell_type": "markdown",
   "metadata": {
    "hidden": true
   },
   "source": [
    "##### Based on 1000 loops over our grid search, the median (and likely best) value for the regularization parameter C is about 0.5.  We'll pickle this for later use in other notebooks."
   ]
  },
  {
   "cell_type": "code",
   "execution_count": 6,
   "metadata": {
    "hidden": true
   },
   "outputs": [
    {
     "name": "stdout",
     "output_type": "stream",
     "text": [
      "0.5\n"
     ]
    }
   ],
   "source": [
    "best_C = np.median(capstone_C)\n",
    "\n",
    "print(best_C)\n",
    "\n",
    "with open('best_C.pkl', 'wb') as f:\n",
    "    pickle.dump(best_C, f)"
   ]
  }
 ],
 "metadata": {
  "kernelspec": {
   "display_name": "Python 3 (ipykernel)",
   "language": "python",
   "name": "python3"
  },
  "language_info": {
   "codemirror_mode": {
    "name": "ipython",
    "version": 3
   },
   "file_extension": ".py",
   "mimetype": "text/x-python",
   "name": "python",
   "nbconvert_exporter": "python",
   "pygments_lexer": "ipython3",
   "version": "3.11.7"
  }
 },
 "nbformat": 4,
 "nbformat_minor": 4
}
